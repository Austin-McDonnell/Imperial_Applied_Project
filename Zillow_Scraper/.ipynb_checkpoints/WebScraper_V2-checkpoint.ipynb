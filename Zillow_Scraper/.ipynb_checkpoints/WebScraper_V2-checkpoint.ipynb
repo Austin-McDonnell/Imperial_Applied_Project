{
 "cells": [
  {
   "cell_type": "code",
   "execution_count": 1,
   "metadata": {},
   "outputs": [
    {
     "data": {
      "text/html": [
       "<style>.container { width:100% !important; }</style>"
      ],
      "text/plain": [
       "<IPython.core.display.HTML object>"
      ]
     },
     "metadata": {},
     "output_type": "display_data"
    }
   ],
   "source": [
    "from IPython.core.display import display, HTML\n",
    "display(HTML(\"<style>.container { width:100% !important; }</style>\"))"
   ]
  },
  {
   "cell_type": "code",
   "execution_count": 1,
   "metadata": {},
   "outputs": [],
   "source": [
    "from selenium import webdriver\n",
    "from selenium.webdriver.common.by import By\n",
    "from selenium.webdriver.support.ui import Select\n",
    "from selenium.webdriver.common.keys import Keys\n",
    "from selenium.webdriver.support.ui import WebDriverWait\n",
    "from selenium.webdriver.support import expected_conditions as EC\n",
    "from selenium.webdriver.chrome.options import Options\n",
    "from selenium.common.exceptions import NoSuchElementException\n",
    "from fake_useragent import UserAgent\n",
    "import time\n",
    "from random import randint\n",
    "from time import sleep\n",
    "from bs4 import BeautifulSoup\n",
    "import string\n",
    "import re\n",
    "from decimal import *\n",
    "from datetime import datetime"
   ]
  },
  {
   "cell_type": "code",
   "execution_count": 2,
   "metadata": {},
   "outputs": [
    {
     "name": "stdout",
     "output_type": "stream",
     "text": [
      "Mozilla/5.0 (Windows NT 5.1) AppleWebKit/537.36 (KHTML, like Gecko) Chrome/34.0.1847.116 Safari/537.36 Mozilla/5.0 (iPad; U; CPU OS 3_2 like Mac OS X; en-us) AppleWebKit/531.21.10 (KHTML, like Gecko) Version/4.0.4 Mobile/7B334b Safari/531.21.10\n"
     ]
    }
   ],
   "source": [
    "ua = UserAgent()\n",
    "userAgent = ua.random\n",
    "print(userAgent)"
   ]
  },
  {
   "cell_type": "code",
   "execution_count": 53,
   "metadata": {},
   "outputs": [],
   "source": [
    "chrome_driver_path = \"C:/Users/austi/Documents/Github_Repos/Imperial_Applied_Project/ChromeDriver/chromedriver.exe\"\n",
    "chrome_profile_path = r'user-data-dir=C:\\Users\\austi\\AppData\\Local\\Google\\Chrome\\User Data\\Default'\n",
    "options = webdriver.ChromeOptions()\n",
    "options.add_argument(chrome_profile_path)\n",
    "#options.add_argument('headless')\n",
    "options.add_argument(f'--user-agent={userAgent}')\n",
    "options.add_argument(\"--start-maximized\")\n",
    "options.add_argument(\"--disable-popup-blocking\")\n",
    "options.add_argument(\"--disable-extensions\")\n",
    "options.add_argument(\"--no-sandbox\")\n",
    "options.add_argument(\"--disable-impl-side-painting\")\n",
    "options.add_argument(\"--disable-setuid-sandbox\")\n",
    "options.add_argument(\"--disable-seccomp-filter-sandbox\")\n",
    "options.add_argument(\"--disable-single-click-autofill\")\n",
    "options.add_experimental_option(\"excludeSwitches\", ['enable-automation'])\n",
    "options.add_argument(\"window-size=1920,1080\")\n",
    "#plug this into the chrome console: navigator.webdriver -> undefined\n",
    "\n",
    "driver = webdriver.Chrome(executable_path=chrome_driver_path, options=options)"
   ]
  },
  {
   "cell_type": "code",
   "execution_count": 54,
   "metadata": {},
   "outputs": [],
   "source": [
    "#Original pop-up Window\n",
    "driver.get(r'C:\\Users\\austi\\Documents\\Github_Repos\\Imperial_Applied_Project\\Testing_HTML\\pop_up_window.html')"
   ]
  },
  {
   "cell_type": "code",
   "execution_count": 9,
   "metadata": {},
   "outputs": [],
   "source": [
    "#Zipcode Window\n",
    "driver.get(r'C:\\Users\\austi\\Documents\\Github_Repos\\Imperial_Applied_Project\\Testing_HTML\\48206.html')"
   ]
  },
  {
   "cell_type": "code",
   "execution_count": 44,
   "metadata": {},
   "outputs": [],
   "source": [
    "#New Pop Up Window Test\n",
    "driver.get(r'C:\\Users\\austi\\Documents\\Github_Repos\\Imperial_Applied_Project\\Testing_HTML\\48206_pop_up_window.html')"
   ]
  },
  {
   "cell_type": "code",
   "execution_count": 17,
   "metadata": {},
   "outputs": [],
   "source": [
    "#Vacant Lot Example\n",
    "driver.get(r'C:\\Users\\austi\\Documents\\Github_Repos\\Imperial_Applied_Project\\Testing_HTML\\Vacant_Lot_Example.html')"
   ]
  },
  {
   "cell_type": "code",
   "execution_count": null,
   "metadata": {},
   "outputs": [],
   "source": [
    "#No Results Example\n",
    "driver.get(r'C:\\Users\\austi\\Documents\\Github_Repos\\Imperial_Applied_Project\\Testing_HTML\\48205_No_Results_Example.html')"
   ]
  },
  {
   "cell_type": "code",
   "execution_count": 57,
   "metadata": {
    "collapsed": true
   },
   "outputs": [
    {
     "name": "stdout",
     "output_type": "stream",
     "text": [
      "{'acceptInsecureCerts': False, 'browserName': 'chrome', 'browserVersion': '75.0.3770.142', 'chrome': {'chromedriverVersion': '75.0.3770.90 (a6dcaf7e3ec6f70a194cc25e8149475c6590e025-refs/branch-heads/3770@{#1003})', 'userDataDir': 'C:\\\\Users\\\\austi\\\\AppData\\\\Local\\\\Google\\\\Chrome\\\\User Data\\\\Default'}, 'goog:chromeOptions': {'debuggerAddress': 'localhost:64672'}, 'networkConnectionEnabled': False, 'pageLoadStrategy': 'normal', 'platformName': 'windows nt', 'proxy': {}, 'setWindowRect': True, 'strictFileInteractability': False, 'timeouts': {'implicit': 0, 'pageLoad': 300000, 'script': 30000}, 'unhandledPromptBehavior': 'dismiss and notify'}\n"
     ]
    },
    {
     "ename": "WebDriverException",
     "evalue": "Message: chrome not reachable\n  (Session info: chrome=75.0.3770.142)\n",
     "output_type": "error",
     "traceback": [
      "\u001b[1;31m---------------------------------------------------------------------------\u001b[0m",
      "\u001b[1;31mWebDriverException\u001b[0m                        Traceback (most recent call last)",
      "\u001b[1;32m<ipython-input-57-0ec55f54cdfe>\u001b[0m in \u001b[0;36m<module>\u001b[1;34m\u001b[0m\n\u001b[0;32m      1\u001b[0m \u001b[0mprint\u001b[0m\u001b[1;33m(\u001b[0m\u001b[0mdriver\u001b[0m\u001b[1;33m.\u001b[0m\u001b[0mcapabilities\u001b[0m\u001b[1;33m)\u001b[0m\u001b[1;33m\u001b[0m\u001b[0m\n\u001b[1;32m----> 2\u001b[1;33m \u001b[0mdriver\u001b[0m\u001b[1;33m.\u001b[0m\u001b[0mget\u001b[0m\u001b[1;33m(\u001b[0m\u001b[1;34m'https://intoli.com/blog/making-chrome-headless-undetectable/chrome-headless-test.html'\u001b[0m\u001b[1;33m)\u001b[0m\u001b[1;33m\u001b[0m\u001b[0m\n\u001b[0m\u001b[0;32m      3\u001b[0m \u001b[0mdriver\u001b[0m\u001b[1;33m.\u001b[0m\u001b[0msave_screenshot\u001b[0m\u001b[1;33m(\u001b[0m\u001b[1;34m\"screenshot5.png\"\u001b[0m\u001b[1;33m)\u001b[0m\u001b[1;33m\u001b[0m\u001b[0m\n\u001b[0;32m      4\u001b[0m \u001b[0mdriver\u001b[0m\u001b[1;33m.\u001b[0m\u001b[0mclose\u001b[0m\u001b[1;33m(\u001b[0m\u001b[1;33m)\u001b[0m\u001b[1;33m\u001b[0m\u001b[0m\n",
      "\u001b[1;32m~\\Anaconda\\lib\\site-packages\\selenium\\webdriver\\remote\\webdriver.py\u001b[0m in \u001b[0;36mget\u001b[1;34m(self, url)\u001b[0m\n\u001b[0;32m    331\u001b[0m         \u001b[0mLoads\u001b[0m \u001b[0ma\u001b[0m \u001b[0mweb\u001b[0m \u001b[0mpage\u001b[0m \u001b[1;32min\u001b[0m \u001b[0mthe\u001b[0m \u001b[0mcurrent\u001b[0m \u001b[0mbrowser\u001b[0m \u001b[0msession\u001b[0m\u001b[1;33m.\u001b[0m\u001b[1;33m\u001b[0m\u001b[0m\n\u001b[0;32m    332\u001b[0m         \"\"\"\n\u001b[1;32m--> 333\u001b[1;33m         \u001b[0mself\u001b[0m\u001b[1;33m.\u001b[0m\u001b[0mexecute\u001b[0m\u001b[1;33m(\u001b[0m\u001b[0mCommand\u001b[0m\u001b[1;33m.\u001b[0m\u001b[0mGET\u001b[0m\u001b[1;33m,\u001b[0m \u001b[1;33m{\u001b[0m\u001b[1;34m'url'\u001b[0m\u001b[1;33m:\u001b[0m \u001b[0murl\u001b[0m\u001b[1;33m}\u001b[0m\u001b[1;33m)\u001b[0m\u001b[1;33m\u001b[0m\u001b[0m\n\u001b[0m\u001b[0;32m    334\u001b[0m \u001b[1;33m\u001b[0m\u001b[0m\n\u001b[0;32m    335\u001b[0m     \u001b[1;33m@\u001b[0m\u001b[0mproperty\u001b[0m\u001b[1;33m\u001b[0m\u001b[0m\n",
      "\u001b[1;32m~\\Anaconda\\lib\\site-packages\\selenium\\webdriver\\remote\\webdriver.py\u001b[0m in \u001b[0;36mexecute\u001b[1;34m(self, driver_command, params)\u001b[0m\n\u001b[0;32m    319\u001b[0m         \u001b[0mresponse\u001b[0m \u001b[1;33m=\u001b[0m \u001b[0mself\u001b[0m\u001b[1;33m.\u001b[0m\u001b[0mcommand_executor\u001b[0m\u001b[1;33m.\u001b[0m\u001b[0mexecute\u001b[0m\u001b[1;33m(\u001b[0m\u001b[0mdriver_command\u001b[0m\u001b[1;33m,\u001b[0m \u001b[0mparams\u001b[0m\u001b[1;33m)\u001b[0m\u001b[1;33m\u001b[0m\u001b[0m\n\u001b[0;32m    320\u001b[0m         \u001b[1;32mif\u001b[0m \u001b[0mresponse\u001b[0m\u001b[1;33m:\u001b[0m\u001b[1;33m\u001b[0m\u001b[0m\n\u001b[1;32m--> 321\u001b[1;33m             \u001b[0mself\u001b[0m\u001b[1;33m.\u001b[0m\u001b[0merror_handler\u001b[0m\u001b[1;33m.\u001b[0m\u001b[0mcheck_response\u001b[0m\u001b[1;33m(\u001b[0m\u001b[0mresponse\u001b[0m\u001b[1;33m)\u001b[0m\u001b[1;33m\u001b[0m\u001b[0m\n\u001b[0m\u001b[0;32m    322\u001b[0m             response['value'] = self._unwrap_value(\n\u001b[0;32m    323\u001b[0m                 response.get('value', None))\n",
      "\u001b[1;32m~\\Anaconda\\lib\\site-packages\\selenium\\webdriver\\remote\\errorhandler.py\u001b[0m in \u001b[0;36mcheck_response\u001b[1;34m(self, response)\u001b[0m\n\u001b[0;32m    240\u001b[0m                 \u001b[0malert_text\u001b[0m \u001b[1;33m=\u001b[0m \u001b[0mvalue\u001b[0m\u001b[1;33m[\u001b[0m\u001b[1;34m'alert'\u001b[0m\u001b[1;33m]\u001b[0m\u001b[1;33m.\u001b[0m\u001b[0mget\u001b[0m\u001b[1;33m(\u001b[0m\u001b[1;34m'text'\u001b[0m\u001b[1;33m)\u001b[0m\u001b[1;33m\u001b[0m\u001b[0m\n\u001b[0;32m    241\u001b[0m             \u001b[1;32mraise\u001b[0m \u001b[0mexception_class\u001b[0m\u001b[1;33m(\u001b[0m\u001b[0mmessage\u001b[0m\u001b[1;33m,\u001b[0m \u001b[0mscreen\u001b[0m\u001b[1;33m,\u001b[0m \u001b[0mstacktrace\u001b[0m\u001b[1;33m,\u001b[0m \u001b[0malert_text\u001b[0m\u001b[1;33m)\u001b[0m\u001b[1;33m\u001b[0m\u001b[0m\n\u001b[1;32m--> 242\u001b[1;33m         \u001b[1;32mraise\u001b[0m \u001b[0mexception_class\u001b[0m\u001b[1;33m(\u001b[0m\u001b[0mmessage\u001b[0m\u001b[1;33m,\u001b[0m \u001b[0mscreen\u001b[0m\u001b[1;33m,\u001b[0m \u001b[0mstacktrace\u001b[0m\u001b[1;33m)\u001b[0m\u001b[1;33m\u001b[0m\u001b[0m\n\u001b[0m\u001b[0;32m    243\u001b[0m \u001b[1;33m\u001b[0m\u001b[0m\n\u001b[0;32m    244\u001b[0m     \u001b[1;32mdef\u001b[0m \u001b[0m_value_or_default\u001b[0m\u001b[1;33m(\u001b[0m\u001b[0mself\u001b[0m\u001b[1;33m,\u001b[0m \u001b[0mobj\u001b[0m\u001b[1;33m,\u001b[0m \u001b[0mkey\u001b[0m\u001b[1;33m,\u001b[0m \u001b[0mdefault\u001b[0m\u001b[1;33m)\u001b[0m\u001b[1;33m:\u001b[0m\u001b[1;33m\u001b[0m\u001b[0m\n",
      "\u001b[1;31mWebDriverException\u001b[0m: Message: chrome not reachable\n  (Session info: chrome=75.0.3770.142)\n"
     ]
    }
   ],
   "source": [
    "print(driver.capabilities)\n",
    "driver.get('https://intoli.com/blog/making-chrome-headless-undetectable/chrome-headless-test.html')\n",
    "driver.save_screenshot(\"screenshot5.png\")\n",
    "driver.close()"
   ]
  },
  {
   "cell_type": "code",
   "execution_count": 11,
   "metadata": {},
   "outputs": [],
   "source": [
    "#listing_button = driver.find_element_by_id('listing-type').click()\n",
    "#--disable-autofill-keyboard-accessory-view\n",
    "#--disable-physical-keyboard-autocorrect\n",
    "#--disable-single-click-autofill\n",
    "#48126\n",
    "#48201"
   ]
  },
  {
   "cell_type": "code",
   "execution_count": 55,
   "metadata": {},
   "outputs": [
    {
     "name": "stdout",
     "output_type": "stream",
     "text": [
      "{'Time_On_Zillow': '62 days', 'Views': '572', 'Saves': '7'} \n",
      "\n",
      "{'Description': 'Rare 2062 SF gem in the popular Aviation Sub! Quality craftmanship! Original owners and lovingly maintained, this 3 bedroom/3 full bath solid brick/limestone home has great bones and potential. First floor master with built in cabinets. Potential in-law suite or apartment area on upper level - the third bedroom is upstairs with possibility of a fourth bedroom. Four season room with fireplace off of master. There is hardwood under carpeted areas on main floor. Dining room with beautiful garden window, open to living room area with cozy fireplace. Vintage bathrooms in pristine condition. Cedar closet upstairs and plenty of storage. Partial finished basement with full bath. Park across the street for a beautiful view from your picture window in the living room area. Passed city inspections and is ready for occupancy. Close to I-75 and I-94, shopping and amenities. Close proximity to Greenland Market, Hemlock Park, Bint Jbeil Cultural Center &amp; Lowrey Middle School.'} \n",
      "\n",
      "{'Type:': 'Single Family', 'Year_Built:': '1955', 'Heating:': 'Forced air', 'Cooling:': 'Central', 'Parking:': '2 spaces', 'Lot:': '4,791 sqft', 'Price/sqft:': '$82'} \n",
      "\n",
      "{'Price': '169900', 'Address': '7925 Appoline St, Dearborn, MI 48126', 'Zestimate': None, 'Price_Cut': 20000.0, 'Price_Cut_Date': '8/6', 'Living_Area': '3 bd'} \n",
      "\n",
      "{'Bedrooms': '3', 'Bathrooms': '3', 'Full_Bathrooms': '3', 'Basement': 'Partially finished', 'Heating_Features': 'Forced air', 'Cooling_Features': 'Central', 'Appliances_Included_In_Sale': 'Dishwasher, Garbage disposal, Range / Oven, Refrigerator', 'Total_Interior_Livable_Area': '2,062 sqft', 'Finished_Area_Below_Ground': '1,240 sqft', 'Fireplace_Features': 'Gas, Living Room', 'Virtual_Tour': 'View virtual tour', 'Parking_Features': 'Detached Garage', 'Garage_Spaces': '2', 'Stories': '1', 'Exterior_Features': 'Brick', 'Patio_And_Porch_Details': 'Porch', 'Frontage_Length': 'Frontage Feet: 40', 'Lot_Size': '0.11 acres', 'Parcel_Number': '821005307008', 'Home_Type': 'SINGLE_FAMILY', 'Architectural_Style': 'Bungalow', 'Construction_Materials': 'Brick', 'Foundation': 'Concrete', 'Roof': 'Asphalt', 'New_Construction': 'No', 'Year_Built': '1955', 'Gas_Information': 'Natural Gas', 'Sewer_Information': 'Sewer-Sanitary', 'Internet_And_Tv': 'No Data', 'Sunscore': 'Candidate for a community solar program\\nSun Number™: 19.64', 'Pets_Allowed': 'Yes', 'Rent_Control': 'No', 'Structure_Type': 'Bungalow', 'Region': 'Dearborn', 'Has_Hoa_Fee': 'No', 'Tax_Assessed_Value': '$162,800', 'Annual_Tax_Amount': '$3,279', 'Mls_Id': '219079857', 'Measurement_Source': 'Prd', 'Roadsurfacetype': 'Paved', 'Currentfinancing': 'Conventional, FHA, VA, Cash', 'Exclusions': 'No Exclusions', 'Interiorfeatures': 'Humidifier, Programmable Thermostat, Utility Smart Meter', 'Speciallistingconditions': 'Sale', 'Belowgradefinishedareasource': 'Prd'} \n",
      "\n",
      "{'latitude': 42.351061, 'longitude': -83.168797} \n",
      "\n"
     ]
    }
   ],
   "source": [
    "print(get_overviewStats(), '\\n')\n",
    "print(get_textDescription(), '\\n')\n",
    "print(get_factsAndFeatures(), '\\n')\n",
    "print(get_homeDetails(), '\\n')\n",
    "print(get_expandableFactsAndFeatures(), '\\n')\n",
    "print(get_gpsCoordinates(), '\\n')"
   ]
  },
  {
   "cell_type": "code",
   "execution_count": 8,
   "metadata": {},
   "outputs": [],
   "source": [
    "expandable = driver.find_element_by_xpath(\"//*[contains(@class, 'ds-expandable-card-footer-text ds-text-button')]\")\n",
    "if expandable.text == 'See more facts and features':\n",
    "    time.sleep(2)\n",
    "    expandable.click()"
   ]
  },
  {
   "cell_type": "code",
   "execution_count": 52,
   "metadata": {},
   "outputs": [],
   "source": [
    "def get_gpsCoordinates():\n",
    "    data_dict = {}\n",
    "    string_value = driver.find_element_by_xpath(\"//script[@type='application/ld+json']\").get_attribute('innerHTML')\n",
    "    gps_coords = re.findall('(\\\")(latitude)(\\\")\\:([-+]?[0-9]\\d*(\\.\\d+)?)\\,(\\\")(longitude)(\\\")\\:([-+]?[0-9]\\d*(\\.\\d+)?)', string=string_value)\n",
    "    latitude = gps_coords[0][1]\n",
    "    latitude_num = gps_coords[0][3]\n",
    "    longitude = gps_coords[0][6]\n",
    "    longitude_num = gps_coords[0][8]\n",
    "    data_dict.update({\n",
    "        latitude: float(Decimal(latitude_num)),\n",
    "        longitude: float(Decimal(longitude_num))\n",
    "                     })\n",
    "    \n",
    "    return data_dict\n",
    "    \n",
    "\n",
    "def get_homeDetails():\n",
    "    data_dict = {}\n",
    "    details = driver.find_element_by_css_selector('div.ds-home-details-chip')\n",
    "    \n",
    "    price = details.find_element_by_xpath(\"//*[@class='ds-price']//span[@class='ds-value']\").get_attribute('innerHTML')\n",
    "    price = re.sub(\"[^\\d\\.]\", \"\", str(price))\n",
    "    \n",
    "    address = driver.find_element_by_css_selector('h1.ds-address-container').text\n",
    "    \n",
    "    living_area = driver.find_element_by_css_selector('span.ds-bed-bath-living-area').text\n",
    "    \n",
    "    price_cut_string = driver.find_elements_by_css_selector('span.ds-price-change.ds-vertical-divider')\n",
    "    if price_cut_string:\n",
    "        price_cut_string = price_cut_string[0].text\n",
    "        price_cut = re.findall('(\\$)([0-9]\\d*(\\.\\d+)?)', price_cut_string)[0][1]\n",
    "        price_cut = float(Decimal(price_cut)*1000)\n",
    "        price_cut_date = re.findall('(\\d+\\/\\d+)', price_cut_string)[0]\n",
    "    else:\n",
    "        price_cut = None\n",
    "        price_cut_date = None\n",
    "    \n",
    "    zestimate = driver.find_elements_by_css_selector('span.ds-estimate-value')\n",
    "    if zestimate:\n",
    "        zestimate = re.sub(\"[^\\d\\.]\", \"\", str(zestimate[0].text))\n",
    "    else:\n",
    "        zestimate = None\n",
    "    \n",
    "    data_dict.update({\n",
    "        'Price': price,\n",
    "        'Address': address,\n",
    "        'Zestimate': zestimate,\n",
    "        'Price_Cut': price_cut,\n",
    "        'Price_Cut_Date': price_cut_date,\n",
    "        'Living_Area': living_area\n",
    "    })\n",
    "    \n",
    "    return data_dict\n",
    "    \n",
    "\n",
    "def get_overviewStats():\n",
    "    data_dict = {}\n",
    "    stats = driver.find_element_by_css_selector('ul.ds-overview-stats')\n",
    "    for stat in stats.find_elements_by_tag_name(\"li\"):\n",
    "        name = stat.find_element_by_css_selector('div.ds-body-small').get_attribute('innerHTML')\n",
    "        name = dict_name_change(name=name)\n",
    "        value = stat.find_element_by_css_selector('div.ds-overview-stat-value').get_attribute('innerHTML')\n",
    "        data_dict.update({name: value})\n",
    "        #sleep(randint(1,5))\n",
    "    return data_dict\n",
    "\n",
    "def get_textDescription():\n",
    "    data_dict = {}\n",
    "    overview = driver.find_element_by_css_selector('div.character-count-text-fold-container')\n",
    "    text_data = overview.find_element_by_tag_name('div').get_attribute('innerHTML')\n",
    "    data_dict.update({'Description': text_data})\n",
    "    \n",
    "    return data_dict\n",
    "\n",
    "def get_factsAndFeatures():\n",
    "    data_dict = {}\n",
    "    for fact in driver.find_elements_by_css_selector('li.ds-home-fact-list-item'):\n",
    "        label = fact.find_element_by_css_selector('span.ds-standard-label.ds-home-fact-label').get_attribute('innerHTML')\n",
    "        label = dict_name_change(name=label)\n",
    "        value = fact.find_element_by_css_selector('span.ds-body.ds-home-fact-value').get_attribute('innerHTML')\n",
    "        data_dict.update({label:value})\n",
    "    if not data_dict:\n",
    "        #Run the backup script to handle non-standard data\n",
    "        data_dict = get_backUpFactsAndFeatures()\n",
    "    return data_dict\n",
    "\n",
    "def get_backUpFactsAndFeatures():\n",
    "    data_dict = {}\n",
    "    backup_facts = driver.find_element_by_css_selector('ul.ds-home-fact-list.backup-facts')\n",
    "    for table in backup_facts.find_elements_by_tag_name('table'):\n",
    "        rows = table.find_elements_by_tag_name('tr')\n",
    "        for row in rows:\n",
    "            col = row.find_elements_by_tag_name('td')\n",
    "            data_dict.update({dict_name_change(str(col[0].text)) : str(col[1].text)})\n",
    "    return data_dict\n",
    "    \n",
    "\n",
    "def get_expandableFactsAndFeatures():\n",
    "    data_dict = {}\n",
    "    #expandable = driver.find_element_by_xpath(\"//*[contains(@class, 'ds-expandable-card-footer-text ds-text-button')]\")\n",
    "    #if expandable.text == 'See more facts and features':\n",
    "        #time.sleep(1)\n",
    "        #expandable.find_element_by_tag_name('button').click()\n",
    "        #time.sleep(2)\n",
    "    factsAndFeatures = driver.find_element_by_css_selector('div.ds-home-facts-and-features.reso-facts-features')#xpath(\"//div[@class='ds-expandable-card-collapsed']\")\n",
    "    driver.execute_script(\"arguments[0].scrollIntoView();\", factsAndFeatures)\n",
    "    time.sleep(5)\n",
    "    button = factsAndFeatures.find_element_by_tag_name('button')\n",
    "    time.sleep(5)\n",
    "    button.click()\n",
    "    time.sleep(5)\n",
    "    \n",
    "    for table in factsAndFeatures.find_elements_by_tag_name('table'):\n",
    "        rows = table.find_elements_by_tag_name('tr')\n",
    "        for row in rows:\n",
    "            col = row.find_elements_by_tag_name('td')\n",
    "            #print(str(row.text)) #+ ' ' + str(col.text))\n",
    "            data_dict.update({dict_name_change(str(col[0].text)) : str(col[1].text)})\n",
    "    return data_dict\n",
    "    \n",
    "    \n",
    "#####################################################################################################################\n",
    "def dict_name_change(name):\n",
    "    name = string.capwords(name)\n",
    "    name = name.replace(' ', '_')\n",
    "    ''.join(e for e in name if e.isalnum())\n",
    "    return name\n",
    "\n",
    "######################################################################################################################\n",
    "def recaptcha_check(data):\n",
    "    input(\"Solve the Recaptch and then Press Enter to continue...\")\n",
    "    restart_after_captcha(data = data)\n",
    "\n",
    "def restart_after_captcha(data):\n",
    "    input(\"Reset the Zip Code and Page Number; Press Enter to Continue...\")\n",
    "    #photo_cards = driver.find_element_by_css_selector('ul.photo-cards.photo-cards_wow')\n",
    "    data_dict = data\n",
    "    loop_cur_page(data= data_dict)\n",
    "\n",
    "def update_house_dict(main_dict, zpid_value, house_data):\n",
    "    return main_dict[zpid_value].update(house_data)\n",
    "\n",
    "def loop_cur_page(data):\n",
    "    photo_cards = driver.find_element_by_css_selector('ul.photo-cards.photo-cards_wow')\n",
    "    \n",
    "    data_dict = data\n",
    "    for house in photo_cards.find_elements_by_css_selector(\"article\"):\n",
    "        #print(i.find_element_by_css_selector('a').get_attribute('aria-label')\n",
    "        try:\n",
    "            time.sleep(10)\n",
    "            zpid = str(house.get_attribute(\"id\"))\n",
    "            if zpid in data_dict.keys():\n",
    "                continue\n",
    "            data_dict.update({zpid: {}})\n",
    "            print(zpid)\n",
    "            house.click()\n",
    "            count+=1\n",
    "            time.sleep(10)\n",
    "            break_val = input(\"Press Enter to continue...\")\n",
    "            if break_val != '':\n",
    "                break\n",
    "            data_dict[zpid].update(get_overviewStats())\n",
    "            time.sleep(2)\n",
    "            data_dict[zpid].update(get_text_description())\n",
    "            #data_dict = update_house_dict(main_dict=data_dict, zpid_value=zpid,)\n",
    "            time.sleep(10)\n",
    "        except NoSuchElementException:\n",
    "            try:\n",
    "                if driver.find_element_by_css_selector('div.captcha-container'):\n",
    "                    recaptcha_check(data= data_dict)\n",
    "                else:\n",
    "                    print('No ZPID Exists Here')\n",
    "            except NoSuchElementException:\n",
    "                print('None')\n",
    "                break\n",
    "        #input(\"Press Enter to continue...\")\n",
    "        driver.find_element_by_css_selector('button.ds-close-lightbox-icon.hc-back-to-list').click()\n",
    "    \n",
    "    return data_dict"
   ]
  },
  {
   "cell_type": "code",
   "execution_count": 7,
   "metadata": {},
   "outputs": [],
   "source": [
    "photo_cards = driver.find_element_by_css_selector('ul.photo-cards.photo-cards_wow')"
   ]
  },
  {
   "cell_type": "code",
   "execution_count": 8,
   "metadata": {},
   "outputs": [
    {
     "name": "stdout",
     "output_type": "stream",
     "text": [
      "zpid_88703884\n",
      "Press Enter to continue...\n",
      "Press Enter to continue...\n",
      "zpid_2083298038\n",
      "Press Enter to continue...\n",
      "Press Enter to continue...\n",
      "zpid_2084165609\n",
      "Press Enter to continue...d\n",
      "3\n"
     ]
    }
   ],
   "source": [
    "count = 0\n",
    "data_dict = {}\n",
    "for i in photo_cards.find_elements_by_css_selector(\"article\"):\n",
    "    #print(i.find_element_by_css_selector('a').get_attribute('aria-label')\n",
    "    try:\n",
    "        time.sleep(10)\n",
    "        zpid = str(i.get_attribute(\"id\"))\n",
    "        data_dict.update({zpid: {}})\n",
    "        print(zpid)\n",
    "        i.click()\n",
    "        count+=1\n",
    "        time.sleep(10)\n",
    "        break_val = input(\"Press Enter to continue...\")\n",
    "        if break_val != '':\n",
    "            break\n",
    "        data_dict[zpid].update(get_overviewStats())\n",
    "        time.sleep(10)\n",
    "    except NoSuchElementException:\n",
    "        try:\n",
    "            if driver.find_element_by_css_selector('div.captcha-container'):\n",
    "                input(\"Solve the Recaptch and then Press Enter to continue...\")\n",
    "                #restart the run from here\n",
    "            else:\n",
    "                print('No ZPID Exists Here')\n",
    "        except NoSuchElementException:\n",
    "            print('None')\n",
    "    input(\"Press Enter to continue...\")\n",
    "    driver.find_element_by_css_selector('button.ds-close-lightbox-icon.hc-back-to-list').click()\n",
    "#print(i.find_element_by_css_selector('h3.list-card-addr').get_attribute('innerHTML'))\n",
    "print(count)"
   ]
  },
  {
   "cell_type": "code",
   "execution_count": 9,
   "metadata": {},
   "outputs": [
    {
     "data": {
      "text/plain": [
       "{'zpid_88703884': {'Time on Zillow': '82 days',\n",
       "  'Views': '1,680',\n",
       "  'Saves': '22'},\n",
       " 'zpid_2083298038': {'Time on Zillow': '4 days', 'Views': '326', 'Saves': '8'},\n",
       " 'zpid_2084165609': {}}"
      ]
     },
     "execution_count": 9,
     "metadata": {},
     "output_type": "execute_result"
    }
   ],
   "source": [
    "data_dict"
   ]
  },
  {
   "cell_type": "code",
   "execution_count": null,
   "metadata": {
    "scrolled": true
   },
   "outputs": [],
   "source": [
    "window_before = driver.window_handles[0]\n",
    "print(window_before)\n",
    "\n",
    "for listing in photo_cards.find_elements_by_tag_name(\"li\"):\n",
    "    time.sleep(10)\n",
    "    if listing.get_attribute('class') == 'nav-ad-empty':\n",
    "        continue\n",
    "    #print(driver.current_url)\n",
    "    listing.click()\n",
    "    #print(driver.current_url)\n",
    "    time.sleep(10)\n",
    "    #print(driver.window_handles)\n",
    "    #driver.switch_to.alert()\n",
    "    #window_after = driver.window_handles[1]\n",
    "    #driver.switch_to.window(window_after)\n",
    "    entered = input(\"Press Enter to continue...\")\n",
    "    if entered != '':\n",
    "        break\n",
    "    #driver.find_element_by_css_selector('ul.ds-overview-stats')\n",
    "    data_dict.update(get_overviewStats())\n",
    "    time.sleep(10)\n",
    "    #stats = house.find_element_by_css_selector('ul.ds-overview-stats')\n",
    "    \n",
    "    #house.find_element_by_css_selector('div.character-count-text-fold-container').get_attribute('div')\n",
    "    #sleep(randint(1,100))\n",
    "    driver.find_element_by_css_selector('button.ds-close-lightbox-icon.hc-back-to-list').click()"
   ]
  },
  {
   "cell_type": "code",
   "execution_count": 46,
   "metadata": {},
   "outputs": [],
   "source": [
    "<div class=\"character-count-text-fold-container\"><div class=\"\" style=\"white-space: pre-wrap; font-size: 15px; line-height: 1.5;\">VERY NICE 4 BEDROOM HOME IN EXCELLENT NEIGHBORHOOD. HOME HAS AN OPEN LAYOUT AND WITH A LITTLE TLC IT COULD BE SPECTACULAR.</div></div>"
   ]
  },
  {
   "cell_type": "code",
   "execution_count": 48,
   "metadata": {},
   "outputs": [],
   "source": [
    "driver.find_element_by_css_selector('button.ds-close-lightbox-icon.hc-back-to-list').click()\n",
    "#<button class=\"ds-close-lightbox-icon hc-back-to-list\" aria-label=\"close button\"><svg width=\"24px\" height=\"24px\" xmlns=\"http://www.w3.org/2000/svg\"><path d=\"M11.778 11.778L4 4l7.778 7.778L4 19.556l7.778-7.778zm0 0l7.778 7.778-7.778-7.778L19.556 4l-7.778 7.778z\" stroke=\"#FFF\" stroke-width=\"2\" fill=\"none\" fill-rule=\"evenodd\" stroke-linecap=\"round\" stroke-linejoin=\"round\"></path></svg></button>"
   ]
  },
  {
   "cell_type": "code",
   "execution_count": 50,
   "metadata": {},
   "outputs": [
    {
     "ename": "TypeError",
     "evalue": "'WebElement' object is not iterable",
     "output_type": "error",
     "traceback": [
      "\u001b[1;31m---------------------------------------------------------------------------\u001b[0m",
      "\u001b[1;31mTypeError\u001b[0m                                 Traceback (most recent call last)",
      "\u001b[1;32m<ipython-input-50-26488cfbf813>\u001b[0m in \u001b[0;36m<module>\u001b[1;34m\u001b[0m\n\u001b[1;32m----> 1\u001b[1;33m \u001b[1;32mfor\u001b[0m \u001b[0mlisting\u001b[0m \u001b[1;32min\u001b[0m \u001b[0mdriver\u001b[0m\u001b[1;33m.\u001b[0m\u001b[0mfind_element_by_css_selector\u001b[0m\u001b[1;33m(\u001b[0m\u001b[1;34m'ul.photo-cards.photo-cards_wow'\u001b[0m\u001b[1;33m)\u001b[0m\u001b[1;33m:\u001b[0m\u001b[1;33m\u001b[0m\u001b[0m\n\u001b[0m\u001b[0;32m      2\u001b[0m     \u001b[0mhouse\u001b[0m \u001b[1;33m=\u001b[0m \u001b[0mdriver\u001b[0m\u001b[1;33m.\u001b[0m\u001b[0mfind_element_by_tag_name\u001b[0m\u001b[1;33m(\u001b[0m\u001b[1;34m\"li\"\u001b[0m\u001b[1;33m)\u001b[0m\u001b[1;33m.\u001b[0m\u001b[0mtext\u001b[0m\u001b[1;33m\u001b[0m\u001b[0m\n",
      "\u001b[1;31mTypeError\u001b[0m: 'WebElement' object is not iterable"
     ]
    }
   ],
   "source": [
    "for listing in driver.find_element_by_css_selector('ul.photo-cards.photo-cards_wow'):\n",
    "    house = driver.find_element_by_tag_name(\"li\").text"
   ]
  },
  {
   "cell_type": "code",
   "execution_count": null,
   "metadata": {},
   "outputs": [],
   "source": [
    "search_box.send_keys(Keys.RETURN)"
   ]
  },
  {
   "cell_type": "code",
   "execution_count": 72,
   "metadata": {},
   "outputs": [],
   "source": [
    "photo_cards = driver.find_element_by_css_selector('ul.photo-cards.photo-cards_wow')\n",
    "house = photo_cards.find_element_by_tag_name(\"li\").click()\n"
   ]
  },
  {
   "cell_type": "code",
   "execution_count": 7,
   "metadata": {},
   "outputs": [
    {
     "ename": "WebDriverException",
     "evalue": "Message: chrome not reachable\n  (Session info: chrome=75.0.3770.142)\n",
     "output_type": "error",
     "traceback": [
      "\u001b[1;31m---------------------------------------------------------------------------\u001b[0m",
      "\u001b[1;31mWebDriverException\u001b[0m                        Traceback (most recent call last)",
      "\u001b[1;32m<ipython-input-7-ad0c9a213c39>\u001b[0m in \u001b[0;36m<module>\u001b[1;34m\u001b[0m\n\u001b[1;32m----> 1\u001b[1;33m \u001b[0mdriver\u001b[0m\u001b[1;33m.\u001b[0m\u001b[0mclose\u001b[0m\u001b[1;33m(\u001b[0m\u001b[1;33m)\u001b[0m\u001b[1;33m\u001b[0m\u001b[0m\n\u001b[0m",
      "\u001b[1;32m~\\Anaconda\\lib\\site-packages\\selenium\\webdriver\\remote\\webdriver.py\u001b[0m in \u001b[0;36mclose\u001b[1;34m(self)\u001b[0m\n\u001b[0;32m    686\u001b[0m             \u001b[0mdriver\u001b[0m\u001b[1;33m.\u001b[0m\u001b[0mclose\u001b[0m\u001b[1;33m(\u001b[0m\u001b[1;33m)\u001b[0m\u001b[1;33m\u001b[0m\u001b[0m\n\u001b[0;32m    687\u001b[0m         \"\"\"\n\u001b[1;32m--> 688\u001b[1;33m         \u001b[0mself\u001b[0m\u001b[1;33m.\u001b[0m\u001b[0mexecute\u001b[0m\u001b[1;33m(\u001b[0m\u001b[0mCommand\u001b[0m\u001b[1;33m.\u001b[0m\u001b[0mCLOSE\u001b[0m\u001b[1;33m)\u001b[0m\u001b[1;33m\u001b[0m\u001b[0m\n\u001b[0m\u001b[0;32m    689\u001b[0m \u001b[1;33m\u001b[0m\u001b[0m\n\u001b[0;32m    690\u001b[0m     \u001b[1;32mdef\u001b[0m \u001b[0mquit\u001b[0m\u001b[1;33m(\u001b[0m\u001b[0mself\u001b[0m\u001b[1;33m)\u001b[0m\u001b[1;33m:\u001b[0m\u001b[1;33m\u001b[0m\u001b[0m\n",
      "\u001b[1;32m~\\Anaconda\\lib\\site-packages\\selenium\\webdriver\\remote\\webdriver.py\u001b[0m in \u001b[0;36mexecute\u001b[1;34m(self, driver_command, params)\u001b[0m\n\u001b[0;32m    319\u001b[0m         \u001b[0mresponse\u001b[0m \u001b[1;33m=\u001b[0m \u001b[0mself\u001b[0m\u001b[1;33m.\u001b[0m\u001b[0mcommand_executor\u001b[0m\u001b[1;33m.\u001b[0m\u001b[0mexecute\u001b[0m\u001b[1;33m(\u001b[0m\u001b[0mdriver_command\u001b[0m\u001b[1;33m,\u001b[0m \u001b[0mparams\u001b[0m\u001b[1;33m)\u001b[0m\u001b[1;33m\u001b[0m\u001b[0m\n\u001b[0;32m    320\u001b[0m         \u001b[1;32mif\u001b[0m \u001b[0mresponse\u001b[0m\u001b[1;33m:\u001b[0m\u001b[1;33m\u001b[0m\u001b[0m\n\u001b[1;32m--> 321\u001b[1;33m             \u001b[0mself\u001b[0m\u001b[1;33m.\u001b[0m\u001b[0merror_handler\u001b[0m\u001b[1;33m.\u001b[0m\u001b[0mcheck_response\u001b[0m\u001b[1;33m(\u001b[0m\u001b[0mresponse\u001b[0m\u001b[1;33m)\u001b[0m\u001b[1;33m\u001b[0m\u001b[0m\n\u001b[0m\u001b[0;32m    322\u001b[0m             response['value'] = self._unwrap_value(\n\u001b[0;32m    323\u001b[0m                 response.get('value', None))\n",
      "\u001b[1;32m~\\Anaconda\\lib\\site-packages\\selenium\\webdriver\\remote\\errorhandler.py\u001b[0m in \u001b[0;36mcheck_response\u001b[1;34m(self, response)\u001b[0m\n\u001b[0;32m    240\u001b[0m                 \u001b[0malert_text\u001b[0m \u001b[1;33m=\u001b[0m \u001b[0mvalue\u001b[0m\u001b[1;33m[\u001b[0m\u001b[1;34m'alert'\u001b[0m\u001b[1;33m]\u001b[0m\u001b[1;33m.\u001b[0m\u001b[0mget\u001b[0m\u001b[1;33m(\u001b[0m\u001b[1;34m'text'\u001b[0m\u001b[1;33m)\u001b[0m\u001b[1;33m\u001b[0m\u001b[0m\n\u001b[0;32m    241\u001b[0m             \u001b[1;32mraise\u001b[0m \u001b[0mexception_class\u001b[0m\u001b[1;33m(\u001b[0m\u001b[0mmessage\u001b[0m\u001b[1;33m,\u001b[0m \u001b[0mscreen\u001b[0m\u001b[1;33m,\u001b[0m \u001b[0mstacktrace\u001b[0m\u001b[1;33m,\u001b[0m \u001b[0malert_text\u001b[0m\u001b[1;33m)\u001b[0m\u001b[1;33m\u001b[0m\u001b[0m\n\u001b[1;32m--> 242\u001b[1;33m         \u001b[1;32mraise\u001b[0m \u001b[0mexception_class\u001b[0m\u001b[1;33m(\u001b[0m\u001b[0mmessage\u001b[0m\u001b[1;33m,\u001b[0m \u001b[0mscreen\u001b[0m\u001b[1;33m,\u001b[0m \u001b[0mstacktrace\u001b[0m\u001b[1;33m)\u001b[0m\u001b[1;33m\u001b[0m\u001b[0m\n\u001b[0m\u001b[0;32m    243\u001b[0m \u001b[1;33m\u001b[0m\u001b[0m\n\u001b[0;32m    244\u001b[0m     \u001b[1;32mdef\u001b[0m \u001b[0m_value_or_default\u001b[0m\u001b[1;33m(\u001b[0m\u001b[0mself\u001b[0m\u001b[1;33m,\u001b[0m \u001b[0mobj\u001b[0m\u001b[1;33m,\u001b[0m \u001b[0mkey\u001b[0m\u001b[1;33m,\u001b[0m \u001b[0mdefault\u001b[0m\u001b[1;33m)\u001b[0m\u001b[1;33m:\u001b[0m\u001b[1;33m\u001b[0m\u001b[0m\n",
      "\u001b[1;31mWebDriverException\u001b[0m: Message: chrome not reachable\n  (Session info: chrome=75.0.3770.142)\n"
     ]
    }
   ],
   "source": [
    "driver.close()"
   ]
  }
 ],
 "metadata": {
  "kernelspec": {
   "display_name": "Python 3",
   "language": "python",
   "name": "python3"
  },
  "language_info": {
   "codemirror_mode": {
    "name": "ipython",
    "version": 3
   },
   "file_extension": ".py",
   "mimetype": "text/x-python",
   "name": "python",
   "nbconvert_exporter": "python",
   "pygments_lexer": "ipython3",
   "version": "3.6.6"
  },
  "toc": {
   "base_numbering": 1,
   "nav_menu": {},
   "number_sections": true,
   "sideBar": true,
   "skip_h1_title": false,
   "title_cell": "Table of Contents",
   "title_sidebar": "Contents",
   "toc_cell": false,
   "toc_position": {},
   "toc_section_display": true,
   "toc_window_display": false
  }
 },
 "nbformat": 4,
 "nbformat_minor": 2
}
