{
 "cells": [
  {
   "cell_type": "code",
   "execution_count": 23,
   "metadata": {},
   "outputs": [
    {
     "data": {
      "text/html": [
       "<style>.container { width:100% !important; }</style>"
      ],
      "text/plain": [
       "<IPython.core.display.HTML object>"
      ]
     },
     "metadata": {},
     "output_type": "display_data"
    }
   ],
   "source": [
    "from IPython.core.display import display, HTML\n",
    "display(HTML(\"<style>.container { width:100% !important; }</style>\"))"
   ]
  },
  {
   "cell_type": "code",
   "execution_count": 1,
   "metadata": {},
   "outputs": [],
   "source": [
    "import os\n",
    "import sys\n",
    "import pandas as pd\n",
    "import numpy as np\n",
    "from bs4 import BeautifulSoup\n",
    "import json\n",
    "import requests\n",
    "import urllib.request"
   ]
  },
  {
   "cell_type": "code",
   "execution_count": 2,
   "metadata": {},
   "outputs": [],
   "source": [
    "html_file_path = 'C:\\\\Users\\\\austi\\\\Documents\\\\Github_Repos\\\\Imperial_Applied_Project\\\\Detroit\\\\ZipCodes\\\\HTML_Files'\n",
    "html_files = os.listdir(html_file_path)\n",
    "#TODO: loop through HTML Dir and grab only the HTML files\n"
   ]
  },
  {
   "cell_type": "code",
   "execution_count": 11,
   "metadata": {},
   "outputs": [],
   "source": [
    "with open(html_file_path + '\\\\'+ \"detroit_48203.html\") as fp:\n",
    "    soup = BeautifulSoup(fp)\n",
    "fp.close()"
   ]
  },
  {
   "cell_type": "code",
   "execution_count": 4,
   "metadata": {},
   "outputs": [],
   "source": [
    "# gets the home attributes and replaces bad characters for Dictionary; only want home characters though\n",
    "#TODO: need to loop through all of the mini bubble templates\n",
    "x = str(soup.body.find_all('div', class_ = 'minibubble template hide')[0].contents[0])\n",
    "json_acceptable_string = x.replace(\"\\\\\", \"\")\n",
    "d = json.loads(json_acceptable_string)"
   ]
  },
  {
   "cell_type": "code",
   "execution_count": 5,
   "metadata": {},
   "outputs": [],
   "source": [
    "#getting all of the pages worth of data; All of the links for the pages of data\n",
    "links = []\n",
    "for ol in soup.body.find_all('ol'):\n",
    "    for li in ol.find_all('li'):\n",
    "        link = li.contents[0].get('href')\n",
    "        if link != None:\n",
    "            links.append(link)\n",
    "            #TODO: get the max number of pages and set the base link; then loop through the base link until the max number of pages"
   ]
  },
  {
   "cell_type": "code",
   "execution_count": 12,
   "metadata": {},
   "outputs": [
    {
     "name": "stdout",
     "output_type": "stream",
     "text": [
      "https://www.zillow.com/homedetails/1701-Balmoral-Dr-Detroit-MI-48203/88241509_zpid/\n",
      "https://www.zillow.com/homedetails/1701-Strathcona-Dr-Detroit-MI-48203/88694104_zpid/\n",
      "https://www.zillow.com/homedetails/230-Cedarhurst-Pl-Detroit-MI-48203/88482657_zpid/\n",
      "https://www.zillow.com/homedetails/18925-Cardoni-St-Detroit-MI-48203/88262787_zpid/\n",
      "https://www.zillow.com/homedetails/19256-Greeley-St-Detroit-MI-48203/88093710_zpid/\n",
      "https://www.zillow.com/homedetails/87-Cedarhurst-Pl-Detroit-MI-48203/88747969_zpid/\n",
      "https://www.zillow.com/homedetails/36-Mclean-St-Highland-Park-MI-48203/88291966_zpid/\n",
      "https://www.zillow.com/homedetails/19201-Strathcona-Dr-Detroit-MI-48203/88251248_zpid/\n",
      "https://www.zillow.com/homedetails/19460-Lowell-Dr-Detroit-MI-48203/88145813_zpid/\n",
      "https://www.zillow.com/homedetails/1750-Strathcona-Dr-Detroit-MI-48203/88143759_zpid/\n",
      "https://www.zillow.com/homedetails/19301-Burlington-Dr-Detroit-MI-48203/88158616_zpid/\n",
      "https://www.zillow.com/homedetails/222-W-Grixdale-Detroit-MI-48203/88499686_zpid/\n",
      "https://www.zillow.com/homedetails/64-Louise-St-Highland-Park-MI-48203/88075127_zpid/\n",
      "https://www.zillow.com/homedetails/56-Louise-St-Highland-Park-MI-48203/88455258_zpid/\n",
      "https://www.zillow.com/homedetails/60-Louise-St-Highland-Park-MI-48203/88120234_zpid/\n",
      "https://www.zillow.com/homedetails/32-Moss-St-Highland-Park-MI-48203/88344646_zpid/\n",
      "https://www.zillow.com/homedetails/170-W-Brentwood-St-Detroit-MI-48203/88083347_zpid/\n",
      "https://www.zillow.com/homedetails/255-Merton-Rd-Detroit-MI-48203/2113428383_zpid/\n",
      "https://www.zillow.com/homedetails/761-Whitmore-Rd-Detroit-MI-48203/2095850392_zpid/\n",
      "https://www.zillow.com/homedetails/595-W-Robinwood-St-Detroit-MI-48203/88404384_zpid/\n",
      "https://www.zillow.com/homedetails/67-W-Buena-Vista-St-Highland-Park-MI-48203/88373821_zpid/\n",
      "https://www.zillow.com/homedetails/16523-Log-Cabin-St-Detroit-MI-48203/88780808_zpid/\n",
      "https://www.zillow.com/homedetails/1001-Covington-Dr-APT-3-Detroit-MI-48203/88766751_zpid/\n",
      "https://www.zillow.com/homedetails/52-Winona-St-Highland-Park-MI-48203/88087007_zpid/\n",
      "https://www.zillow.com/homedetails/1661-Lincolnshire-Dr-Detroit-MI-48203/88606475_zpid/\n",
      "25\n"
     ]
    }
   ],
   "source": [
    "# gets the deeper dive link for each home; for more info access\n",
    "count = 0\n",
    "for link in soup.body.find_all('div', class_ = 'zsg-photo-card-content zsg-aspect-ratio-content'):\n",
    "    print(link.find('a').get('href'))\n",
    "    count+= 1\n",
    "print(count)"
   ]
  },
  {
   "cell_type": "code",
   "execution_count": null,
   "metadata": {},
   "outputs": [],
   "source": [
    "def deep_dive(links):\n",
    "    os.chdir('')\n",
    "    home = 1\n",
    "    for i in links:\n",
    "        urllib.request.urlretrieve(i, \"home_\" + str(home) + \".txt\")\n",
    "        response = urllib.request.urlopen(str(i))\n",
    "        html = BeautifulSoup(response.read())"
   ]
  },
  {
   "cell_type": "code",
   "execution_count": 7,
   "metadata": {},
   "outputs": [],
   "source": [
    "#get the total number of homes for sale in that zipcode\n",
    "soup.body.find('div', {\"id\": \"map-result-count-message\"}).string"
   ]
  }
 ],
 "metadata": {
  "kernelspec": {
   "display_name": "Python 3",
   "language": "python",
   "name": "python3"
  },
  "language_info": {
   "codemirror_mode": {
    "name": "ipython",
    "version": 3
   },
   "file_extension": ".py",
   "mimetype": "text/x-python",
   "name": "python",
   "nbconvert_exporter": "python",
   "pygments_lexer": "ipython3",
   "version": "3.6.6"
  },
  "toc": {
   "base_numbering": 1,
   "nav_menu": {},
   "number_sections": true,
   "sideBar": true,
   "skip_h1_title": false,
   "title_cell": "Table of Contents",
   "title_sidebar": "Contents",
   "toc_cell": false,
   "toc_position": {},
   "toc_section_display": true,
   "toc_window_display": false
  }
 },
 "nbformat": 4,
 "nbformat_minor": 2
}
