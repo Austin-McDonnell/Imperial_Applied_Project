{
 "cells": [
  {
   "cell_type": "code",
   "execution_count": 15,
   "metadata": {},
   "outputs": [
    {
     "data": {
      "text/html": [
       "<style>.container { width:100% !important; }</style>"
      ],
      "text/plain": [
       "<IPython.core.display.HTML object>"
      ]
     },
     "metadata": {},
     "output_type": "display_data"
    }
   ],
   "source": [
    "from IPython.core.display import display, HTML\n",
    "display(HTML(\"<style>.container { width:100% !important; }</style>\"))"
   ]
  },
  {
   "cell_type": "code",
   "execution_count": 45,
   "metadata": {},
   "outputs": [],
   "source": [
    "import re as re\n",
    "import numpy as np\n",
    "import time\n",
    "import json\n",
    "from bs4 import BeautifulSoup\n",
    "from selenium import webdriver\n",
    "from selenium.webdriver.common.by import By\n",
    "from selenium.webdriver.support.ui import WebDriverWait\n",
    "from selenium.webdriver.support import expected_conditions as EC\n",
    "from selenium.common.exceptions import TimeoutException\n",
    "from selenium.common.exceptions import NoSuchElementException"
   ]
  },
  {
   "cell_type": "code",
   "execution_count": 30,
   "metadata": {},
   "outputs": [],
   "source": [
    "detroit_zip_codes_path = 'C:/Users/austi/Documents/Github_Repos/Imperial_Applied_Project/Detroit/ZipCodes/Detriot_ZipCodes.txt'"
   ]
  },
  {
   "cell_type": "code",
   "execution_count": 33,
   "metadata": {},
   "outputs": [],
   "source": [
    "def read_zip_code_txt(file_path):\n",
    "    file = open(file_path, 'r')\n",
    "    for line in file:\n",
    "        zipcodes = line.split(',')\n",
    "    return zipcodes\n",
    "\n",
    "def zillow_zip_code_links(zip_code_list):\n",
    "    links = []\n",
    "    base_link = 'https://www.zillow.com/homes/'\n",
    "    for zip_code in zip_code_list:\n",
    "        links.append(base_link + zip_code + '_rb/')\n",
    "    return links"
   ]
  },
  {
   "cell_type": "code",
   "execution_count": 34,
   "metadata": {},
   "outputs": [],
   "source": [
    "detroit_zip_codes = read_zip_code_txt(detroit_zip_codes_path)\n",
    "zillow_links = zillow_zip_code_links(detroit_zip_codes)"
   ]
  },
  {
   "cell_type": "code",
   "execution_count": 12,
   "metadata": {},
   "outputs": [],
   "source": [
    "#navigate_to_website(driver, \"https://www.zillow.com/homes/48211_rb/\")"
   ]
  },
  {
   "cell_type": "code",
   "execution_count": 38,
   "metadata": {},
   "outputs": [
    {
     "name": "stderr",
     "output_type": "stream",
     "text": [
      "C:\\Users\\austi\\Anaconda\\lib\\site-packages\\ipykernel_launcher.py:6: DeprecationWarning: use options instead of chrome_options\n",
      "  \n"
     ]
    }
   ],
   "source": [
    "driver = init_driver(\"C:/Users/austi/Documents/Github_Repos/Imperial_Applied_Project/ChromeDriver/chromedriver.exe\")"
   ]
  },
  {
   "cell_type": "code",
   "execution_count": 39,
   "metadata": {},
   "outputs": [],
   "source": [
    "detroit_48217 = get_html(driver=driver)"
   ]
  },
  {
   "cell_type": "code",
   "execution_count": 40,
   "metadata": {},
   "outputs": [],
   "source": [
    "close_connection(driver)"
   ]
  },
  {
   "cell_type": "code",
   "execution_count": 46,
   "metadata": {},
   "outputs": [],
   "source": [
    "soup = BeautifulSoup(detroit_48217[0])\n",
    "x = str(soup.body.find_all('div', class_ = 'minibubble template hide')[0].contents[0])\n",
    "json_acceptable_string = x.replace(\"\\\\\", \"\")\n",
    "d = json.loads(json_acceptable_string)"
   ]
  },
  {
   "cell_type": "code",
   "execution_count": 48,
   "metadata": {},
   "outputs": [
    {
     "name": "stdout",
     "output_type": "stream",
     "text": [
      "/homedetails/1201-S-Liebold-St-Detroit-MI-48217/88422982_zpid/\n",
      "/homedetails/2645-S-Liddesdale-St-Detroit-MI-48217/88365904_zpid/\n",
      "/homedetails/3566-S-Liddesdale-St-Detroit-MI-48217/88546927_zpid/\n",
      "/homedetails/1942-S-Edsel-St-Detroit-MI-48217/88083986_zpid/\n",
      "/homedetails/1211-S-Liebold-St-Detroit-MI-48217/88191880_zpid/\n",
      "/homedetails/2131-S-Beatrice-St-Detroit-MI-48217/88599873_zpid/\n",
      "/homedetails/2725-S-Beatrice-St-Detroit-MI-48217/88455824_zpid/\n",
      "/homedetails/1024-S-Ethel-St-Detroit-MI-48217/88424726_zpid/\n",
      "/homedetails/11818-Miami-St-Detroit-MI-48217/88565722_zpid/\n",
      "/homedetails/2717-S-Edsel-St-Detroit-MI-48217/88729490_zpid/\n",
      "/homedetails/1120-S-Liebold-St-Detroit-MI-48217/88225385_zpid/\n",
      "/homedetails/3381-S-Edsel-St-Detroit-MI-48217/88733354_zpid/\n",
      "/homedetails/12895-Conway-St-Detroit-MI-48217/88381780_zpid/\n",
      "/homedetails/1037-S-Ethel-St-Detroit-MI-48217/88231617_zpid/\n",
      "/homedetails/1304-S-Patricia-St-Detroit-MI-48217/88230946_zpid/\n",
      "/homedetails/2451-S-Edsel-St-Detroit-MI-48217/88214904_zpid/\n",
      "/homedetails/1085-S-Patricia-St-Detroit-MI-48217/88460365_zpid/\n",
      "/homedetails/12459-Visger-St-Detroit-MI-48217/88501329_zpid/\n",
      "/homedetails/2728-S-Edsel-St-Detroit-MI-48217/88353845_zpid/\n",
      "/homedetails/3381-S-Electric-St-Detroit-MI-48217/88069728_zpid/\n",
      "/homedetails/2257-S-Edsel-St-Detroit-MI-48217/88605627_zpid/\n",
      "/homedetails/3151-S-Liddesdale-St-Detroit-MI-48217/88087318_zpid/\n",
      "/homedetails/1264-S-Ethel-St-Detroit-MI-48217/88719187_zpid/\n",
      "/homedetails/3571-S-Electric-St-Detroit-MI-48217/88275805_zpid/\n",
      "/homedetails/2538-2580-S-Schaefer-Hwy-Detroit-MI-48217/2092978605_zpid/\n",
      "25\n"
     ]
    }
   ],
   "source": [
    "# gets the deeper dive link for each home; for more info access\n",
    "# <div style=\"white-space: pre-wrap; font-size: 15px; line-height: 1.5;\"\n",
    "count = 0\n",
    "for link in soup.body.find_all('div', class_ = 'zsg-photo-card-content zsg-aspect-ratio-content'):\n",
    "    print(link.find('a').get('href'))\n",
    "    count+= 1\n",
    "print(count)"
   ]
  },
  {
   "cell_type": "code",
   "execution_count": 13,
   "metadata": {},
   "outputs": [],
   "source": [
    "'''\n",
    "dir_path = 'C:/Users/austi/Documents/Github_Repos/Imperial_Applied_Project/Detroit/ZipCodes/HTML_Files'\n",
    "with open(dir_path + \"/detroit_48211.html\", \"w\") as f:\n",
    "    f.write(driver.page_source)\n",
    "'''"
   ]
  },
  {
   "cell_type": "code",
   "execution_count": 37,
   "metadata": {},
   "outputs": [],
   "source": [
    "def init_driver(file_path):\n",
    "    # Starting maximized fixes https://github.com/ChrisMuir/Zillow/issues/1\n",
    "    options = webdriver.ChromeOptions()\n",
    "    options.add_argument(\"--start-maximized\")\n",
    "    driver = webdriver.Chrome(executable_path=file_path,\n",
    "                              chrome_options=options)\n",
    "    driver.wait = WebDriverWait(driver, 10)\n",
    "    return(driver)\n",
    "\n",
    "# Helper function for checking for the presence of a web element.\n",
    "def _is_element_displayed(driver, elem_text, elem_type):\n",
    "    if elem_type == \"class\":\n",
    "        try:\n",
    "            out = driver.find_element_by_class_name(elem_text).is_displayed()\n",
    "        except (NoSuchElementException, TimeoutException):\n",
    "            out = False\n",
    "    elif elem_type == \"css\":\n",
    "        try:\n",
    "            out = driver.find_element_by_css_selector(elem_text).is_displayed()\n",
    "        except (NoSuchElementException, TimeoutException):\n",
    "            out = False\n",
    "    else:\n",
    "        raise ValueError(\"arg 'elem_type' must be either 'class' or 'css'\")\n",
    "    return(out)\n",
    "\n",
    "\n",
    "# If captcha page is displayed, this function will run indefinitely until the\n",
    "# captcha page is no longer displayed (checks for it every 30 seconds).\n",
    "# Purpose of the function is to \"pause\" execution of the scraper until the\n",
    "# user has manually completed the captcha requirements.\n",
    "def _pause_for_captcha(driver):\n",
    "    while True:\n",
    "        time.sleep(30)\n",
    "        if not _is_element_displayed(driver, \"captcha-container\", \"class\"):\n",
    "            break\n",
    "\n",
    "# Check to see if the page is currently stuck on a captcha page. If so, pause\n",
    "# the scraper until user has manually completed the captcha requirements.\n",
    "def check_for_captcha(driver):\n",
    "    if _is_element_displayed(driver, \"captcha-container\", \"class\"):\n",
    "        print(\"\\nCAPTCHA!\\n\"\\\n",
    "              \"Manually complete the captcha requirements.\\n\"\\\n",
    "              \"Once that's done, if the program was in the middle of scraping \"\\\n",
    "              \"(and is still running), it should resume scraping after ~30 seconds.\")\n",
    "        _pause_for_captcha(driver)\n",
    "\n",
    "def navigate_to_website(driver, site):\n",
    "    driver.get(site)\n",
    "    # Check to make sure a captcha page is not displayed.\n",
    "    check_for_captcha(driver)\n",
    "\n",
    "def _is_element_displayed(driver, elem_text, elem_type):\n",
    "    if elem_type == \"class\":\n",
    "        try:\n",
    "            out = driver.find_element_by_class_name(elem_text).is_displayed()\n",
    "        except (NoSuchElementException, TimeoutException):\n",
    "            out = False\n",
    "    elif elem_type == \"css\":\n",
    "        try:\n",
    "            out = driver.find_element_by_css_selector(elem_text).is_displayed()\n",
    "        except (NoSuchElementException, TimeoutException):\n",
    "            out = False\n",
    "    else:\n",
    "        raise ValueError(\"arg 'elem_type' must be either 'class' or 'css'\")\n",
    "    return(out)\n",
    "\n",
    "def get_html(driver):\n",
    "    output = []\n",
    "    keep_going = True\n",
    "    while keep_going:\n",
    "        # Pull page HTML\n",
    "        try:\n",
    "            output.append(driver.page_source)\n",
    "        except TimeoutException:\n",
    "            pass\n",
    "        # Check to see if a \"next page\" link exists.\n",
    "        keep_going = _is_element_displayed(driver, \"zsg-pagination-next\",\n",
    "                                           \"class\")\n",
    "        if keep_going:\n",
    "            # Test to ensure the \"updating results\" image isnt displayed.\n",
    "            # Will try up to 5 times before giving up, with a 5 second wait\n",
    "            # between each try.\n",
    "            tries = 5\n",
    "            cover = _is_element_displayed(driver,\n",
    "                                          \"list-loading-message-cover\",\n",
    "                                          \"class\")\n",
    "            while cover and tries > 0:\n",
    "                time.sleep(5)\n",
    "                tries -= 1\n",
    "                cover = _is_element_displayed(driver,\n",
    "                                              \"list-loading-message-cover\",\n",
    "                                              \"class\")\n",
    "            # If the \"updating results\" image is confirmed to be gone\n",
    "            # (cover == False), click next page. Otherwise, give up on trying\n",
    "            # to click thru to the next page of house results, and return the\n",
    "            # results that have been scraped up to the current page.\n",
    "            if not cover:\n",
    "                try:\n",
    "                    driver.wait.until(EC.element_to_be_clickable(\n",
    "                        (By.CLASS_NAME, \"zsg-pagination-next\"))).click()\n",
    "                    time.sleep(3)\n",
    "                    # Check to make sure a captcha page is not displayed.\n",
    "                    check_for_captcha(driver)\n",
    "                except TimeoutException:\n",
    "                    keep_going = False\n",
    "            else:\n",
    "                keep_going = False\n",
    "    return(output)\n",
    "\n",
    "# Teardown webdriver.\n",
    "def close_connection(driver):\n",
    "    driver.quit()"
   ]
  }
 ],
 "metadata": {
  "kernelspec": {
   "display_name": "Python 3",
   "language": "python",
   "name": "python3"
  },
  "language_info": {
   "codemirror_mode": {
    "name": "ipython",
    "version": 3
   },
   "file_extension": ".py",
   "mimetype": "text/x-python",
   "name": "python",
   "nbconvert_exporter": "python",
   "pygments_lexer": "ipython3",
   "version": "3.6.6"
  },
  "toc": {
   "base_numbering": 1,
   "nav_menu": {},
   "number_sections": true,
   "sideBar": true,
   "skip_h1_title": false,
   "title_cell": "Table of Contents",
   "title_sidebar": "Contents",
   "toc_cell": false,
   "toc_position": {},
   "toc_section_display": true,
   "toc_window_display": false
  }
 },
 "nbformat": 4,
 "nbformat_minor": 2
}
